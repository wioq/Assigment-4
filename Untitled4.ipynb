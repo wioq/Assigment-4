{
 "cells": [
  {
   "cell_type": "code",
   "execution_count": 2,
   "id": "eae68ae8",
   "metadata": {},
   "outputs": [
    {
     "name": "stdout",
     "output_type": "stream",
     "text": [
      "select operation \n",
      " 1 = add \n",
      " 2 = sub \n",
      " 3 = multi \n",
      " 4 = div \n",
      " 5 = power\n",
      "enter operation from 1,2,3,4,5 \n",
      "2\n",
      "enter number 1\n",
      "4\n",
      "enter number 2\n",
      "3\n",
      "4 - 3 = 1\n"
     ]
    }
   ],
   "source": [
    "def add(x,y):\n",
    "    return x+y;\n",
    "def sub(x,y):\n",
    "    return x-y;\n",
    "def multi(x,y):\n",
    "    return x*y;\n",
    "def div(x,y):\n",
    "    return x/y;\n",
    "def power(x,y):\n",
    "    return x**y;\n",
    "print(\"select operation \\n 1 = add \\n 2 = sub \\n 3 = multi \\n 4 = div \\n 5 = power\")\n",
    "select = int(input(\"enter operation from 1,2,3,4,5 \\n\"))\n",
    "x = int(input(\"enter number 1\\n\"))\n",
    "y = int(input(\"enter number 2\\n\"))\n",
    "if select == 1:\n",
    "    print(x, \"+\", y, \"=\",add(x,y))\n",
    "elif select == 2:\n",
    "    print(x, \"-\",y, \"=\",sub(x,y))\n",
    "elif select == 3:\n",
    "    print(x, \"*\",y, \"=\",multi(x,y))\n",
    "elif select == 4:\n",
    "    print(x, \"/\",y, \"=\",div(x,y))\n",
    "elif select == 5:\n",
    "    print(x, \"**\",y, \"=\",div(x,y))\n",
    "else:\n",
    "    print(\"invalid input\")\n"
   ]
  },
  {
   "cell_type": "code",
   "execution_count": 8,
   "id": "0ab823d1",
   "metadata": {},
   "outputs": [
    {
     "name": "stdout",
     "output_type": "stream",
     "text": [
      "list have number []\n",
      "list have number []\n",
      "list have number [1]\n",
      "list have number [1, 2]\n",
      "list have number [1, 2, 44]\n",
      "list have number [1, 2, 44, 888]\n",
      "list have number [1, 2, 44, 888, 33113]\n",
      "list have number [1, 2, 44, 888, 33113]\n"
     ]
    }
   ],
   "source": [
    "my_list = [\"a\",\"b\",1,2,44,888,33113,\"nadeem\"]\n",
    "empty_list = []\n",
    "for i in my_list:\n",
    "    if type(i) == int:\n",
    "        empty_list.append(i)\n",
    "    print(\"list have number\",empty_list)"
   ]
  },
  {
   "cell_type": "code",
   "execution_count": 10,
   "id": "a9218bde",
   "metadata": {},
   "outputs": [
    {
     "name": "stdout",
     "output_type": "stream",
     "text": [
      "{1: 'Burgur', 2: 'Pizza', 3: 'coca cola'}\n"
     ]
    }
   ],
   "source": [
    "x={1:\"Burgur\",2:\"Pizza\"}\n",
    "y ={3: \"coca cola\"}\n",
    "x.update(y)\n",
    "print(x)"
   ]
  },
  {
   "cell_type": "code",
   "execution_count": 12,
   "id": "29bd832d",
   "metadata": {},
   "outputs": [
    {
     "name": "stdout",
     "output_type": "stream",
     "text": [
      "2130\n"
     ]
    }
   ],
   "source": [
    "dic = {\n",
    "    \"burgur\":100,\n",
    "    \"pizza\":1350,\n",
    "    \"chiken roll\":180,\n",
    "    \"chees burger\": 500\n",
    "}\n",
    "add_dic = sum(dic.values())\n",
    "print(add_dic)"
   ]
  },
  {
   "cell_type": "code",
   "execution_count": 17,
   "id": "c786232c",
   "metadata": {},
   "outputs": [
    {
     "name": "stdout",
     "output_type": "stream",
     "text": [
      "repeted values are: [1, 7, 0]\n"
     ]
    }
   ],
   "source": [
    "First_list = [1,4,7,1,3,7,0,0,8,5,2]\n",
    "second_list =[]\n",
    "repeted_list = []\n",
    "for i in First_list:\n",
    "    if i not in second_list:\n",
    "        second_list.append(i)\n",
    "    else:\n",
    "        repeted_list.append(i)\n",
    "print(\"repeted values are:\", repeted_list)"
   ]
  },
  {
   "cell_type": "code",
   "execution_count": 23,
   "id": "4b28696c",
   "metadata": {},
   "outputs": [
    {
     "name": "stdout",
     "output_type": "stream",
     "text": [
      "Enter the key: Nadeem\n",
      "Key match\n"
     ]
    }
   ],
   "source": [
    "dicetionary = {\"Nadeem\":31380, \"Naeem\": 345687,\"Ghafoor\":333667,\"Samad\":3036766}\n",
    "def key_checker(x):\n",
    "    if x in dicetionary.keys():\n",
    "        print(\"Key match\")\n",
    "    else:\n",
    "        print(\"Key is not match\")\n",
    "search = input(\"Enter the key: \")\n",
    "key_checker(search)"
   ]
  },
  {
   "cell_type": "code",
   "execution_count": null,
   "id": "b22a22ff",
   "metadata": {},
   "outputs": [],
   "source": []
  },
  {
   "cell_type": "code",
   "execution_count": null,
   "id": "a440213d",
   "metadata": {},
   "outputs": [],
   "source": []
  }
 ],
 "metadata": {
  "kernelspec": {
   "display_name": "Python 3",
   "language": "python",
   "name": "python3"
  },
  "language_info": {
   "codemirror_mode": {
    "name": "ipython",
    "version": 3
   },
   "file_extension": ".py",
   "mimetype": "text/x-python",
   "name": "python",
   "nbconvert_exporter": "python",
   "pygments_lexer": "ipython3",
   "version": "3.8.8"
  }
 },
 "nbformat": 4,
 "nbformat_minor": 5
}
